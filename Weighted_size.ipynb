{
 "cells": [
  {
   "cell_type": "code",
   "execution_count": 6,
   "id": "9c8c0afc-8c69-48d8-b440-ed896ab624c5",
   "metadata": {},
   "outputs": [],
   "source": [
    "import numpy as np\n",
    "import pandas as pd\n",
    "import matplotlib.pyplot as plt"
   ]
  },
  {
   "cell_type": "code",
   "execution_count": 2,
   "id": "b640c9a9-3f99-4c66-b9b4-f392ef923614",
   "metadata": {},
   "outputs": [
    {
     "data": {
      "text/plain": [
       "(1183265, 56)"
      ]
     },
     "execution_count": 2,
     "metadata": {},
     "output_type": "execute_result"
    }
   ],
   "source": [
    "df = pd.read_hdf('tng300-sam.h5')\n",
    "df.shape"
   ]
  },
  {
   "cell_type": "code",
   "execution_count": 30,
   "id": "00641d8d-27eb-424d-9b24-77db5d0adde0",
   "metadata": {},
   "outputs": [],
   "source": [
    "def weighted_radius(Md,Rd,Mb,Rb):\n",
    "    Mtot = Md+Mb\n",
    "    return Md/Mtot*1.68*Rd + Mb/Mtot*Rb"
   ]
  },
  {
   "cell_type": "code",
   "execution_count": 31,
   "id": "cd7f95a7-0f7d-4556-9cc7-9df90150dc35",
   "metadata": {},
   "outputs": [],
   "source": [
    "df['GalpropWeightedRadius'] = weighted_radius(df['GalpropMdisk'],df['GalpropRdisk'],df['GalpropMbulge'],df['GalpropRbulge'])"
   ]
  },
  {
   "cell_type": "code",
   "execution_count": 38,
   "id": "549b0d0c-53e2-4754-a905-d3786fd9a66f",
   "metadata": {},
   "outputs": [
    {
     "data": {
      "text/plain": [
       "GalpropMBH                          2.234950e+06\n",
       "GalpropMH2                          1.384860e+07\n",
       "GalpropMHI                          2.428640e+09\n",
       "GalpropMHII                         1.217330e+10\n",
       "GalpropMaccdot                      0.000000e+00\n",
       "GalpropMaccdot_radio                1.093000e-05\n",
       "GalpropMbulge                       1.596950e+09\n",
       "GalpropMcold                        1.975970e+10\n",
       "GalpropMstar                        2.823550e+09\n",
       "GalpropMstar_merge                  9.775910e+08\n",
       "GalpropMstrip                       1.003400e+12\n",
       "GalpropMu_merger                    3.987110e-01\n",
       "GalpropMvir                         1.003400e+12\n",
       "GalpropOutflowRate_Mass             5.466710e-02\n",
       "GalpropOutflowRate_Metal            6.035930e-03\n",
       "GalpropRbulge                       2.422300e-01\n",
       "GalpropRdisk                        2.924770e+01\n",
       "GalpropRfric                        0.000000e+00\n",
       "GalpropRhalo                        2.637410e+02\n",
       "GalpropSatType                      0.000000e+00\n",
       "GalpropSfr                          8.288340e-03\n",
       "GalpropSfrave100myr                 7.614000e-03\n",
       "GalpropSfrave1gyr                   1.069130e-01\n",
       "GalpropSfrave20myr                  5.080260e-03\n",
       "GalpropSigmaBulge                   1.011520e+02\n",
       "GalpropTmerger                      5.408700e+00\n",
       "GalpropTmerger_major                5.408700e+00\n",
       "GalpropTsat                        -9.900000e+01\n",
       "GalpropVdisk                        1.292000e+02\n",
       "GalpropZcold                        2.181030e+00\n",
       "GalpropZstar                        4.605860e-01\n",
       "GalpropX                            5.825900e+01\n",
       "GalpropVx                           5.495000e+01\n",
       "GalpropY                            2.766440e+02\n",
       "GalpropVy                           2.171500e+02\n",
       "GalpropZ                            1.660290e+02\n",
       "GalpropVz                          -5.088000e+02\n",
       "HalopropC_nfw                       3.031450e+00\n",
       "HalopropMaccdot_metal               0.000000e+00\n",
       "HalopropMaccdot_pristine            4.767500e+00\n",
       "HalopropMaccdot_radio               1.093690e-05\n",
       "HalopropMaccdot_reaccreate          4.825430e+00\n",
       "HalopropMaccdot_reaccreate_metal    0.000000e+00\n",
       "HalopropMass_ejected                1.005790e+11\n",
       "HalopropMcooldot                    9.395950e+08\n",
       "HalopropMdot_eject                  0.000000e+00\n",
       "HalopropMdot_eject_metal            0.000000e+00\n",
       "HalopropMetal_ejected               8.655190e+00\n",
       "HalopropMhot                        8.581140e+10\n",
       "HalopropMstar_diffuse               2.597770e+08\n",
       "HalopropMvir                        1.003400e+12\n",
       "HalopropSpin                        1.419800e-01\n",
       "HalopropZhot                        2.066600e+09\n",
       "GalpropVvir                         1.279035e+02\n",
       "GalpropMdisk                        1.226600e+09\n",
       "GalpropHalfmassRadius               1.202301e+00\n",
       "GalpropWeightedradius               8.776888e+00\n",
       "GalpropWeightedRadius               2.148261e+01\n",
       "Name: 1703091, dtype: float64"
      ]
     },
     "execution_count": 38,
     "metadata": {},
     "output_type": "execute_result"
    }
   ],
   "source": [
    "amax = np.argmax(np.abs(df['GalpropWeightedRadius']-df['GalpropHalfmassRadius']))\n",
    "tmp=df.iloc[amax,:]\n",
    "tmp"
   ]
  },
  {
   "cell_type": "code",
   "execution_count": 39,
   "id": "20241797-f16e-4f57-9c45-5dd25a190d99",
   "metadata": {},
   "outputs": [],
   "source": [
    "Md = tmp['GalpropMdisk']\n",
    "Mb = tmp['GalpropMbulge']\n",
    "Rd = tmp['GalpropRdisk']\n",
    "Rb = tmp['GalpropRbulge']"
   ]
  },
  {
   "cell_type": "code",
   "execution_count": 42,
   "id": "7970c923-ee29-44f6-9aa7-1d54cc517f96",
   "metadata": {},
   "outputs": [
    {
     "data": {
      "text/plain": [
       "<module 'add_spin_r50' from '/Users/ari/Projects/tng-code/add_spin_r50.py'>"
      ]
     },
     "execution_count": 42,
     "metadata": {},
     "output_type": "execute_result"
    }
   ],
   "source": [
    "import add_spin_r50 as a\n",
    "from importlib import reload\n",
    "reload(a)"
   ]
  },
  {
   "cell_type": "code",
   "execution_count": 43,
   "id": "ffa7e80c-271b-4eb9-8159-88498889f84f",
   "metadata": {},
   "outputs": [
    {
     "data": {
      "image/png": "[encoded data removed]",
      "text/plain": [
       "<Figure size 640x480 with 1 Axes>"
      ]
     },
     "metadata": {},
     "output_type": "display_data"
    },
    {
     "name": "stdout",
     "output_type": "stream",
     "text": [
      "0.43441764369267577 0.5655823563073242\n",
      "21.345604229740314 0.13700101310034804 1.202300940728132\n"
     ]
    }
   ],
   "source": [
    "a.half_mass_radius(Md,Rd,Mb,Rb,figure=True)\n",
    "Mtot = Md+Mb\n",
    "print(Md/Mtot,Mb/Mtot)\n",
    "print(Md/Mtot*1.68*Rd,Mb/Mtot*Rb,tmp['GalpropHalfmassRadius'])"
   ]
  },
  {
   "cell_type": "code",
   "execution_count": 79,
   "id": "3145634e",
   "metadata": {},
   "outputs": [],
   "source": [
    "mask = np.logical_and(df['GalpropMstar'] > 1.e9, df['GalpropSatType']==0)\n",
    "mask = np.logical_and(mask,df['GalpropMdisk']/df['GalpropMstar'] > 0.6)"
   ]
  },
  {
   "cell_type": "code",
   "execution_count": 80,
   "id": "c6b599ac",
   "metadata": {},
   "outputs": [
    {
     "data": {
      "text/plain": [
       "(224419, 58)"
      ]
     },
     "execution_count": 80,
     "metadata": {},
     "output_type": "execute_result"
    }
   ],
   "source": [
    "dfm = df[mask]\n",
    "dfm.shape"
   ]
  },
  {
   "cell_type": "code",
   "execution_count": 81,
   "id": "d68c680f",
   "metadata": {},
   "outputs": [],
   "source": [
    "frac = (-dfm['GalpropHalfmassRadius']+dfm['GalpropWeightedRadius'])/dfm['GalpropHalfmassRadius']"
   ]
  },
  {
   "cell_type": "code",
   "execution_count": 82,
   "id": "cc603c26",
   "metadata": {},
   "outputs": [
    {
     "data": {
      "image/png": "[encoded data removed]",
      "text/plain": [
       "<Figure size 640x480 with 1 Axes>"
      ]
     },
     "metadata": {},
     "output_type": "display_data"
    }
   ],
   "source": [
    "vals = plt.hist(frac,range=[-0.1,0.5],bins=100)"
   ]
  },
  {
   "cell_type": "code",
   "execution_count": 77,
   "id": "aaa138bb",
   "metadata": {},
   "outputs": [],
   "source": [
    "amax = np.argmax(frac)"
   ]
  },
  {
   "cell_type": "code",
   "execution_count": 78,
   "id": "7a0a0572",
   "metadata": {},
   "outputs": [
    {
     "data": {
      "text/plain": [
       "GalpropMBH                          1.109660e+06\n",
       "GalpropMH2                          1.413400e+08\n",
       "GalpropMHI                          1.185830e+10\n",
       "GalpropMHII                         8.283550e+09\n",
       "GalpropMaccdot                      0.000000e+00\n",
       "GalpropMaccdot_radio                8.544650e-07\n",
       "GalpropMbulge                       8.549380e+08\n",
       "GalpropMcold                        2.748350e+10\n",
       "GalpropMstar                        1.065910e+09\n",
       "GalpropMstar_merge                  1.620510e+08\n",
       "GalpropMstrip                       3.012990e+11\n",
       "GalpropMu_merger                    6.938620e-01\n",
       "GalpropMvir                         3.012990e+11\n",
       "GalpropOutflowRate_Mass             1.446830e+00\n",
       "GalpropOutflowRate_Metal            4.900830e-02\n",
       "GalpropRbulge                       4.423340e-03\n",
       "GalpropRdisk                        1.140520e+01\n",
       "GalpropRfric                        0.000000e+00\n",
       "GalpropRhalo                        1.766120e+02\n",
       "GalpropSatType                      0.000000e+00\n",
       "GalpropSfr                          8.491060e-02\n",
       "GalpropSfrave100myr                 7.669740e-02\n",
       "GalpropSfrave1gyr                   1.278350e-01\n",
       "GalpropSfrave20myr                  5.199810e-02\n",
       "GalpropSigmaBulge                   3.972650e+02\n",
       "GalpropTmerger                      1.495290e+00\n",
       "GalpropTmerger_major                1.495290e+00\n",
       "GalpropTsat                        -9.900000e+01\n",
       "GalpropVdisk                        9.343000e+01\n",
       "GalpropZcold                        9.301720e-01\n",
       "GalpropZstar                        9.809510e-02\n",
       "GalpropX                            7.807300e+01\n",
       "GalpropVx                           1.989400e+02\n",
       "GalpropY                            1.899060e+02\n",
       "GalpropVy                           4.735000e+01\n",
       "GalpropZ                            1.459320e+02\n",
       "GalpropVz                           7.960000e+01\n",
       "HalopropC_nfw                       5.980980e+00\n",
       "HalopropMaccdot_metal               0.000000e+00\n",
       "HalopropMaccdot_pristine            6.802000e-01\n",
       "HalopropMaccdot_radio               8.544650e-07\n",
       "HalopropMaccdot_reaccreate          1.887170e+00\n",
       "HalopropMaccdot_reaccreate_metal    0.000000e+00\n",
       "HalopropMass_ejected                3.780710e+10\n",
       "HalopropMcooldot                    9.060940e+09\n",
       "HalopropMdot_eject                  0.000000e+00\n",
       "HalopropMdot_eject_metal            0.000000e+00\n",
       "HalopropMetal_ejected               1.473440e+00\n",
       "HalopropMhot                        8.581690e+09\n",
       "HalopropMstar_diffuse               4.138810e+07\n",
       "HalopropMvir                        3.012990e+11\n",
       "HalopropSpin                        1.203100e-01\n",
       "HalopropZhot                        1.192840e+08\n",
       "GalpropVvir                         8.564913e+01\n",
       "GalpropMdisk                        2.109720e+08\n",
       "GalpropHalfmassRadius               6.896622e-03\n",
       "GalpropWeightedradius               1.538575e+00\n",
       "GalpropWeightedRadius               3.795968e+00\n",
       "Name: 1459625, dtype: float64"
      ]
     },
     "execution_count": 78,
     "metadata": {},
     "output_type": "execute_result"
    }
   ],
   "source": [
    "tmp = dfm.iloc[amax,:]\n",
    "tmp"
   ]
  },
  {
   "cell_type": "code",
   "execution_count": 71,
   "id": "1b1de3c4",
   "metadata": {},
   "outputs": [
    {
     "data": {
      "image/png": "[encoded data removed]",
      "text/plain": [
       "<Figure size 640x480 with 1 Axes>"
      ]
     },
     "metadata": {},
     "output_type": "display_data"
    },
    {
     "data": {
      "text/plain": [
       "0.006896622493169373"
      ]
     },
     "execution_count": 71,
     "metadata": {},
     "output_type": "execute_result"
    }
   ],
   "source": [
    "Md = tmp['GalpropMdisk']\n",
    "Mb = tmp['GalpropMbulge']\n",
    "Rd = tmp['GalpropRdisk']\n",
    "Rb = tmp['GalpropRbulge']\n",
    "a.half_mass_radius(Md,Rd,Mb,Rb,figure=True)"
   ]
  },
  {
   "cell_type": "code",
   "execution_count": 72,
   "id": "9fe608f3",
   "metadata": {},
   "outputs": [
    {
     "name": "stdout",
     "output_type": "stream",
     "text": [
      "0.19792666801692468 0.8020733319830753\n",
      "3.792420634754078 0.0035478429329459703 0.006896622493169373\n"
     ]
    }
   ],
   "source": [
    "Mtot = Md+Mb\n",
    "print(Md/Mtot,Mb/Mtot)\n",
    "print(Md/Mtot*1.68*Rd,Mb/Mtot*Rb,tmp['GalpropHalfmassRadius'])"
   ]
  },
  {
   "cell_type": "code",
   "execution_count": 84,
   "id": "49cdbf84",
   "metadata": {},
   "outputs": [
    {
     "data": {
      "text/plain": [
       "0.017785193793238067"
      ]
     },
     "execution_count": 84,
     "metadata": {},
     "output_type": "execute_result"
    }
   ],
   "source": [
    "np.mean(np.abs(frac))"
   ]
  },
  {
   "cell_type": "code",
   "execution_count": null,
   "id": "ad4b6c82",
   "metadata": {},
   "outputs": [],
   "source": []
  }
 ],
 "metadata": {
  "kernelspec": {
   "display_name": "Python 3 (ipykernel)",
   "language": "python",
   "name": "python3"
  },
  "language_info": {
   "codemirror_mode": {
    "name": "ipython",
    "version": 3
   },
   "file_extension": ".py",
   "mimetype": "text/x-python",
   "name": "python",
   "nbconvert_exporter": "python",
   "pygments_lexer": "ipython3",
   "version": "3.10.6"
  }
 },
 "nbformat": 4,
 "nbformat_minor": 5
}
