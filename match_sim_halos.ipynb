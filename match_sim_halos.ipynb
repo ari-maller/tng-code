{
 "cells": [
  {
   "cell_type": "markdown",
   "id": "556061f8-aa08-4cdf-ab64-5be57297ae0d",
   "metadata": {},
   "source": [
    "Match tng subhalo to group files.\n",
    "In group catalog GroupFirstSub is the SubhaloID of the central sub\n",
    "In subhalo catalog SubhaloGrNr is the GroupID of the subhalo"
   ]
  },
  {
   "cell_type": "code",
   "execution_count": 1,
   "id": "6fc7b520-c921-4fc9-9195-54fcde11e0e9",
   "metadata": {},
   "outputs": [],
   "source": [
    "import numpy as np\n",
    "import pandas as pd\n",
    "import matplotlib.pyplot as plt\n",
    "import illustris_python as ilsim\n",
    "import tng2pandas as t2p\n",
    "\n",
    "base_path = '/Users/ari/Data/TNG/TNG100-1/output/'\n",
    "snapshot=99"
   ]
  },
  {
   "cell_type": "code",
   "execution_count": 3,
   "id": "a3a3a2e2-48e0-48d5-82f5-ae6e03bdbede",
   "metadata": {},
   "outputs": [],
   "source": [
    "halos = ilsim.groupcat.loadHalos(base_path, snapshot)\n",
    "subs = ilsim.groupcat.loadSubhalos(base_path, snapshot)\n",
    "halos['GroupFirstSub'][0:3]\n",
    "subs['SubhaloGrNr'][halos['GroupFirstSub'][0:3]]\n",
    "subs['SubhaloParent'][halos['GroupFirstSub'][0:3]]"
   ]
  },
  {
   "cell_type": "code",
   "execution_count": 8,
   "id": "57f0cc39-22a5-4f53-861a-d70b6097eda0",
   "metadata": {},
   "outputs": [
    {
     "ename": "KeyError",
     "evalue": "'count'",
     "output_type": "error",
     "traceback": [
      "\u001b[0;31m---------------------------------------------------------------------------\u001b[0m",
      "\u001b[0;31mKeyError\u001b[0m                                  Traceback (most recent call last)",
      "Cell \u001b[0;32mIn[8], line 1\u001b[0m\n\u001b[0;32m----> 1\u001b[0m \u001b[38;5;28mprint\u001b[39m(\u001b[43mhalos\u001b[49m\u001b[43m[\u001b[49m\u001b[38;5;124;43m'\u001b[39;49m\u001b[38;5;124;43mcount\u001b[39;49m\u001b[38;5;124;43m'\u001b[39;49m\u001b[43m]\u001b[49m)\n\u001b[1;32m      2\u001b[0m halos\u001b[38;5;241m.\u001b[39mkeys()\n\u001b[1;32m      3\u001b[0m Nhalos \u001b[38;5;241m=\u001b[39m halos\u001b[38;5;241m.\u001b[39mpop(\u001b[38;5;124m'\u001b[39m\u001b[38;5;124mcount\u001b[39m\u001b[38;5;124m'\u001b[39m)\n",
      "\u001b[0;31mKeyError\u001b[0m: 'count'"
     ]
    }
   ],
   "source": [
    "print(halos['count'])\n",
    "halos.keys()\n",
    "Nhalos = halos.pop('count')\n",
    "print(Nhalos)"
   ]
  },
  {
   "cell_type": "code",
   "execution_count": 5,
   "id": "ac98c2d6-62f3-4316-9746-285042d173d3",
   "metadata": {},
   "outputs": [
    {
     "name": "stdout",
     "output_type": "stream",
     "text": [
      "6291349\n",
      "4371211\n",
      "4371211\n"
     ]
    }
   ],
   "source": [
    "print(Nhalos)\n",
    "print(subs['count'])\n",
    "subs.keys()\n",
    "Nsubs = subs.pop('count')\n",
    "print(Nsubs)"
   ]
  },
  {
   "cell_type": "code",
   "execution_count": 11,
   "id": "55ec77dc-b7f3-4cd3-b2fd-2657f6175b5d",
   "metadata": {},
   "outputs": [
    {
     "name": "stdout",
     "output_type": "stream",
     "text": [
      "GroupBHMass 1\n",
      "GroupBHMdot 1\n",
      "GroupFirstSub 1\n",
      "GroupGasMetallicity 1\n",
      "GroupLen 1\n",
      "GroupMass 1\n",
      "GroupNsubs 1\n",
      "GroupSFR 1\n",
      "GroupStarMetallicity 1\n",
      "GroupWindMass 1\n",
      "Group_M_Crit200 1\n",
      "Group_M_Crit500 1\n",
      "Group_M_Mean200 1\n",
      "Group_M_TopHat200 1\n",
      "Group_R_Crit200 1\n",
      "Group_R_Crit500 1\n",
      "Group_R_Mean200 1\n",
      "Group_R_TopHat200 1\n"
     ]
    }
   ],
   "source": [
    "halos.pop('GroupCM')\n",
    "halos.pop('GroupGasMetalFractions')\n",
    "halos.pop('GroupLenType')\n",
    "halos.pop('GroupMassType')\n",
    "halos.pop('GroupStarMetalFractions')\n",
    "for k in halos.keys():\n",
    "    print(k,halos[k].ndim)"
   ]
  },
  {
   "cell_type": "code",
   "execution_count": 12,
   "id": "023a0715-c4a3-4d8f-a036-bdcd0e5b50fb",
   "metadata": {},
   "outputs": [],
   "source": [
    "df_h = pd.DataFrame(halos)"
   ]
  },
  {
   "cell_type": "code",
   "execution_count": 13,
   "id": "d96c8a1e-df14-421f-9e6c-5375a7e65057",
   "metadata": {},
   "outputs": [
    {
     "name": "stdout",
     "output_type": "stream",
     "text": [
      "SubhaloBHMass 1\n",
      "SubhaloBHMdot 1\n",
      "SubhaloBfldDisk 1\n",
      "SubhaloBfldHalo 1\n",
      "SubhaloCM 2\n",
      "SubhaloFlag 1\n",
      "SubhaloGasMetalFractions 2\n",
      "SubhaloGasMetalFractionsHalfRad 2\n",
      "SubhaloGasMetalFractionsMaxRad 2\n",
      "SubhaloGasMetalFractionsSfr 2\n",
      "SubhaloGasMetalFractionsSfrWeighted 2\n",
      "SubhaloGasMetallicity 1\n",
      "SubhaloGasMetallicityHalfRad 1\n",
      "SubhaloGasMetallicityMaxRad 1\n",
      "SubhaloGasMetallicitySfr 1\n",
      "SubhaloGasMetallicitySfrWeighted 1\n",
      "SubhaloGrNr 1\n",
      "SubhaloHalfmassRad 1\n",
      "SubhaloHalfmassRadType 2\n",
      "SubhaloIDMostbound 1\n",
      "SubhaloLen 1\n",
      "SubhaloLenType 2\n",
      "SubhaloMass 1\n",
      "SubhaloMassInHalfRad 1\n",
      "SubhaloMassInHalfRadType 2\n",
      "SubhaloMassInMaxRad 1\n",
      "SubhaloMassInMaxRadType 2\n",
      "SubhaloMassInRad 1\n",
      "SubhaloMassInRadType 2\n",
      "SubhaloMassType 2\n",
      "SubhaloParent 1\n",
      "SubhaloSFR 1\n",
      "SubhaloSFRinHalfRad 1\n",
      "SubhaloSFRinMaxRad 1\n",
      "SubhaloSFRinRad 1\n",
      "SubhaloStarMetalFractions 2\n",
      "SubhaloStarMetalFractionsHalfRad 2\n",
      "SubhaloStarMetalFractionsMaxRad 2\n",
      "SubhaloStarMetallicity 1\n",
      "SubhaloStarMetallicityHalfRad 1\n",
      "SubhaloStarMetallicityMaxRad 1\n",
      "SubhaloStellarPhotometrics 2\n",
      "SubhaloStellarPhotometricsMassInRad 1\n",
      "SubhaloStellarPhotometricsRad 1\n",
      "SubhaloVelDisp 1\n",
      "SubhaloVmax 1\n",
      "SubhaloVmaxRad 1\n",
      "SubhaloWindMass 1\n"
     ]
    }
   ],
   "source": [
    "subs.pop('SubhaloCM')\n",
    "for k in subs.keys():\n",
    "    print(k,subs[k].ndim)"
   ]
  },
  {
   "cell_type": "code",
   "execution_count": 7,
   "id": "b536e79f-55ab-4426-a2cd-af03352b171a",
   "metadata": {},
   "outputs": [
    {
     "ename": "ValueError",
     "evalue": "Per-column arrays must each be 1-dimensional",
     "output_type": "error",
     "traceback": [
      "\u001b[0;31m---------------------------------------------------------------------------\u001b[0m",
      "\u001b[0;31mValueError\u001b[0m                                Traceback (most recent call last)",
      "Cell \u001b[0;32mIn[7], line 6\u001b[0m\n\u001b[1;32m      4\u001b[0m vel \u001b[38;5;241m=\u001b[39m subs\u001b[38;5;241m.\u001b[39mpop(\u001b[38;5;124m'\u001b[39m\u001b[38;5;124mSubhaloVel\u001b[39m\u001b[38;5;124m'\u001b[39m)\n\u001b[1;32m      5\u001b[0m spins \u001b[38;5;241m=\u001b[39m subs\u001b[38;5;241m.\u001b[39mpop(\u001b[38;5;124m'\u001b[39m\u001b[38;5;124mSubhaloSpin\u001b[39m\u001b[38;5;124m'\u001b[39m)\n\u001b[0;32m----> 6\u001b[0m df_h \u001b[38;5;241m=\u001b[39m \u001b[43mpd\u001b[49m\u001b[38;5;241;43m.\u001b[39;49m\u001b[43mDataFrame\u001b[49m\u001b[43m(\u001b[49m\u001b[43mhalos\u001b[49m\u001b[43m)\u001b[49m\n\u001b[1;32m      7\u001b[0m df_s \u001b[38;5;241m=\u001b[39m pd\u001b[38;5;241m.\u001b[39mDataFrame(subs)\n",
      "File \u001b[0;32m~/miniforge3/lib/python3.10/site-packages/pandas/core/frame.py:636\u001b[0m, in \u001b[0;36mDataFrame.__init__\u001b[0;34m(self, data, index, columns, dtype, copy)\u001b[0m\n\u001b[1;32m    630\u001b[0m     mgr \u001b[38;5;241m=\u001b[39m \u001b[38;5;28mself\u001b[39m\u001b[38;5;241m.\u001b[39m_init_mgr(\n\u001b[1;32m    631\u001b[0m         data, axes\u001b[38;5;241m=\u001b[39m{\u001b[38;5;124m\"\u001b[39m\u001b[38;5;124mindex\u001b[39m\u001b[38;5;124m\"\u001b[39m: index, \u001b[38;5;124m\"\u001b[39m\u001b[38;5;124mcolumns\u001b[39m\u001b[38;5;124m\"\u001b[39m: columns}, dtype\u001b[38;5;241m=\u001b[39mdtype, copy\u001b[38;5;241m=\u001b[39mcopy\n\u001b[1;32m    632\u001b[0m     )\n\u001b[1;32m    634\u001b[0m \u001b[38;5;28;01melif\u001b[39;00m \u001b[38;5;28misinstance\u001b[39m(data, \u001b[38;5;28mdict\u001b[39m):\n\u001b[1;32m    635\u001b[0m     \u001b[38;5;66;03m# GH#38939 de facto copy defaults to False only in non-dict cases\u001b[39;00m\n\u001b[0;32m--> 636\u001b[0m     mgr \u001b[38;5;241m=\u001b[39m \u001b[43mdict_to_mgr\u001b[49m\u001b[43m(\u001b[49m\u001b[43mdata\u001b[49m\u001b[43m,\u001b[49m\u001b[43m \u001b[49m\u001b[43mindex\u001b[49m\u001b[43m,\u001b[49m\u001b[43m \u001b[49m\u001b[43mcolumns\u001b[49m\u001b[43m,\u001b[49m\u001b[43m \u001b[49m\u001b[43mdtype\u001b[49m\u001b[38;5;241;43m=\u001b[39;49m\u001b[43mdtype\u001b[49m\u001b[43m,\u001b[49m\u001b[43m \u001b[49m\u001b[43mcopy\u001b[49m\u001b[38;5;241;43m=\u001b[39;49m\u001b[43mcopy\u001b[49m\u001b[43m,\u001b[49m\u001b[43m \u001b[49m\u001b[43mtyp\u001b[49m\u001b[38;5;241;43m=\u001b[39;49m\u001b[43mmanager\u001b[49m\u001b[43m)\u001b[49m\n\u001b[1;32m    637\u001b[0m \u001b[38;5;28;01melif\u001b[39;00m \u001b[38;5;28misinstance\u001b[39m(data, ma\u001b[38;5;241m.\u001b[39mMaskedArray):\n\u001b[1;32m    638\u001b[0m     \u001b[38;5;28;01mimport\u001b[39;00m \u001b[38;5;21;01mnumpy\u001b[39;00m\u001b[38;5;21;01m.\u001b[39;00m\u001b[38;5;21;01mma\u001b[39;00m\u001b[38;5;21;01m.\u001b[39;00m\u001b[38;5;21;01mmrecords\u001b[39;00m \u001b[38;5;28;01mas\u001b[39;00m \u001b[38;5;21;01mmrecords\u001b[39;00m\n",
      "File \u001b[0;32m~/miniforge3/lib/python3.10/site-packages/pandas/core/internals/construction.py:502\u001b[0m, in \u001b[0;36mdict_to_mgr\u001b[0;34m(data, index, columns, dtype, typ, copy)\u001b[0m\n\u001b[1;32m    494\u001b[0m     arrays \u001b[38;5;241m=\u001b[39m [\n\u001b[1;32m    495\u001b[0m         x\n\u001b[1;32m    496\u001b[0m         \u001b[38;5;28;01mif\u001b[39;00m \u001b[38;5;129;01mnot\u001b[39;00m \u001b[38;5;28mhasattr\u001b[39m(x, \u001b[38;5;124m\"\u001b[39m\u001b[38;5;124mdtype\u001b[39m\u001b[38;5;124m\"\u001b[39m) \u001b[38;5;129;01mor\u001b[39;00m \u001b[38;5;129;01mnot\u001b[39;00m \u001b[38;5;28misinstance\u001b[39m(x\u001b[38;5;241m.\u001b[39mdtype, ExtensionDtype)\n\u001b[1;32m    497\u001b[0m         \u001b[38;5;28;01melse\u001b[39;00m x\u001b[38;5;241m.\u001b[39mcopy()\n\u001b[1;32m    498\u001b[0m         \u001b[38;5;28;01mfor\u001b[39;00m x \u001b[38;5;129;01min\u001b[39;00m arrays\n\u001b[1;32m    499\u001b[0m     ]\n\u001b[1;32m    500\u001b[0m     \u001b[38;5;66;03m# TODO: can we get rid of the dt64tz special case above?\u001b[39;00m\n\u001b[0;32m--> 502\u001b[0m \u001b[38;5;28;01mreturn\u001b[39;00m \u001b[43marrays_to_mgr\u001b[49m\u001b[43m(\u001b[49m\u001b[43marrays\u001b[49m\u001b[43m,\u001b[49m\u001b[43m \u001b[49m\u001b[43mcolumns\u001b[49m\u001b[43m,\u001b[49m\u001b[43m \u001b[49m\u001b[43mindex\u001b[49m\u001b[43m,\u001b[49m\u001b[43m \u001b[49m\u001b[43mdtype\u001b[49m\u001b[38;5;241;43m=\u001b[39;49m\u001b[43mdtype\u001b[49m\u001b[43m,\u001b[49m\u001b[43m \u001b[49m\u001b[43mtyp\u001b[49m\u001b[38;5;241;43m=\u001b[39;49m\u001b[43mtyp\u001b[49m\u001b[43m,\u001b[49m\u001b[43m \u001b[49m\u001b[43mconsolidate\u001b[49m\u001b[38;5;241;43m=\u001b[39;49m\u001b[43mcopy\u001b[49m\u001b[43m)\u001b[49m\n",
      "File \u001b[0;32m~/miniforge3/lib/python3.10/site-packages/pandas/core/internals/construction.py:120\u001b[0m, in \u001b[0;36marrays_to_mgr\u001b[0;34m(arrays, columns, index, dtype, verify_integrity, typ, consolidate)\u001b[0m\n\u001b[1;32m    117\u001b[0m \u001b[38;5;28;01mif\u001b[39;00m verify_integrity:\n\u001b[1;32m    118\u001b[0m     \u001b[38;5;66;03m# figure out the index, if necessary\u001b[39;00m\n\u001b[1;32m    119\u001b[0m     \u001b[38;5;28;01mif\u001b[39;00m index \u001b[38;5;129;01mis\u001b[39;00m \u001b[38;5;28;01mNone\u001b[39;00m:\n\u001b[0;32m--> 120\u001b[0m         index \u001b[38;5;241m=\u001b[39m \u001b[43m_extract_index\u001b[49m\u001b[43m(\u001b[49m\u001b[43marrays\u001b[49m\u001b[43m)\u001b[49m\n\u001b[1;32m    121\u001b[0m     \u001b[38;5;28;01melse\u001b[39;00m:\n\u001b[1;32m    122\u001b[0m         index \u001b[38;5;241m=\u001b[39m ensure_index(index)\n",
      "File \u001b[0;32m~/miniforge3/lib/python3.10/site-packages/pandas/core/internals/construction.py:661\u001b[0m, in \u001b[0;36m_extract_index\u001b[0;34m(data)\u001b[0m\n\u001b[1;32m    659\u001b[0m         raw_lengths\u001b[38;5;241m.\u001b[39mappend(\u001b[38;5;28mlen\u001b[39m(val))\n\u001b[1;32m    660\u001b[0m     \u001b[38;5;28;01melif\u001b[39;00m \u001b[38;5;28misinstance\u001b[39m(val, np\u001b[38;5;241m.\u001b[39mndarray) \u001b[38;5;129;01mand\u001b[39;00m val\u001b[38;5;241m.\u001b[39mndim \u001b[38;5;241m>\u001b[39m \u001b[38;5;241m1\u001b[39m:\n\u001b[0;32m--> 661\u001b[0m         \u001b[38;5;28;01mraise\u001b[39;00m \u001b[38;5;167;01mValueError\u001b[39;00m(\u001b[38;5;124m\"\u001b[39m\u001b[38;5;124mPer-column arrays must each be 1-dimensional\u001b[39m\u001b[38;5;124m\"\u001b[39m)\n\u001b[1;32m    663\u001b[0m \u001b[38;5;28;01mif\u001b[39;00m \u001b[38;5;129;01mnot\u001b[39;00m indexes \u001b[38;5;129;01mand\u001b[39;00m \u001b[38;5;129;01mnot\u001b[39;00m raw_lengths:\n\u001b[1;32m    664\u001b[0m     \u001b[38;5;28;01mraise\u001b[39;00m \u001b[38;5;167;01mValueError\u001b[39;00m(\u001b[38;5;124m\"\u001b[39m\u001b[38;5;124mIf using all scalar values, you must pass an index\u001b[39m\u001b[38;5;124m\"\u001b[39m)\n",
      "\u001b[0;31mValueError\u001b[0m: Per-column arrays must each be 1-dimensional"
     ]
    }
   ],
   "source": [
    "pos_halos = halos.pop('GroupPos')\n",
    "vel_halos = halos.pop('GroupVel')\n",
    "pos = subs.pop('SubhaloPos')\n",
    "vel = subs.pop('SubhaloVel')\n",
    "spins = subs.pop('SubhaloSpin')\n",
    "df_h = pd.DataFrame(halos)\n",
    "df_s = pd.DataFrame(subs)"
   ]
  },
  {
   "cell_type": "code",
   "execution_count": null,
   "id": "ebad1383-7f2e-4d06-a7c1-645d80e0b633",
   "metadata": {},
   "outputs": [],
   "source": [
    "keep = np.logical_and(subs['SubhaloFlag']==1,subs['SubhaloMass'] > 5e-2)\n",
    "print(keep.sum())\n",
    "tmp = plt.hist(np.log10(subs['SubhaloMass'][keep])+10,bins=30)"
   ]
  },
  {
   "cell_type": "code",
   "execution_count": null,
   "id": "4a5248a0-ed6c-48b7-8ad9-42ac77364fdd",
   "metadata": {},
   "outputs": [],
   "source": []
  },
  {
   "cell_type": "code",
   "execution_count": 2,
   "id": "a917d068-ddc2-489d-892d-529abaa428b2",
   "metadata": {},
   "outputs": [
    {
     "name": "stdout",
     "output_type": "stream",
     "text": [
      "['SubhaloFlag' 'SubhaloBHMass' 'SubhaloBHMdot' 'SubhaloGasMetallicity'\n",
      " 'SubhaloGrNr' 'SubhaloMass' 'SubhaloParent' 'SubhaloSFRinRad'\n",
      " 'SubhaloStarMetallicity' 'SubhaloVelDisp' 'SubhaloVmax' 'SubhaloVmaxRad'\n",
      " 'SubhaloRgas' 'SubhaloRstar' 'SubhaloMgas' 'SubhaloMstar' 'SubhaloX'\n",
      " 'SubhaloVx' 'SubhaloJx' 'SubhaloY' 'SubhaloVy' 'SubhaloJy' 'SubhaloZ'\n",
      " 'SubhaloVz' 'SubhaloJz']\n"
     ]
    },
    {
     "ename": "KeyError",
     "evalue": "'count'",
     "output_type": "error",
     "traceback": [
      "\u001b[0;31m---------------------------------------------------------------------------\u001b[0m",
      "\u001b[0;31mKeyError\u001b[0m                                  Traceback (most recent call last)",
      "File \u001b[0;32m~/miniforge3/lib/python3.10/site-packages/pandas/core/indexes/base.py:3629\u001b[0m, in \u001b[0;36mIndex.get_loc\u001b[0;34m(self, key, method, tolerance)\u001b[0m\n\u001b[1;32m   3628\u001b[0m \u001b[38;5;28;01mtry\u001b[39;00m:\n\u001b[0;32m-> 3629\u001b[0m     \u001b[38;5;28;01mreturn\u001b[39;00m \u001b[38;5;28;43mself\u001b[39;49m\u001b[38;5;241;43m.\u001b[39;49m\u001b[43m_engine\u001b[49m\u001b[38;5;241;43m.\u001b[39;49m\u001b[43mget_loc\u001b[49m\u001b[43m(\u001b[49m\u001b[43mcasted_key\u001b[49m\u001b[43m)\u001b[49m\n\u001b[1;32m   3630\u001b[0m \u001b[38;5;28;01mexcept\u001b[39;00m \u001b[38;5;167;01mKeyError\u001b[39;00m \u001b[38;5;28;01mas\u001b[39;00m err:\n",
      "File \u001b[0;32m~/miniforge3/lib/python3.10/site-packages/pandas/_libs/index.pyx:136\u001b[0m, in \u001b[0;36mpandas._libs.index.IndexEngine.get_loc\u001b[0;34m()\u001b[0m\n",
      "File \u001b[0;32m~/miniforge3/lib/python3.10/site-packages/pandas/_libs/index.pyx:163\u001b[0m, in \u001b[0;36mpandas._libs.index.IndexEngine.get_loc\u001b[0;34m()\u001b[0m\n",
      "File \u001b[0;32mpandas/_libs/hashtable_class_helper.pxi:5198\u001b[0m, in \u001b[0;36mpandas._libs.hashtable.PyObjectHashTable.get_item\u001b[0;34m()\u001b[0m\n",
      "File \u001b[0;32mpandas/_libs/hashtable_class_helper.pxi:5206\u001b[0m, in \u001b[0;36mpandas._libs.hashtable.PyObjectHashTable.get_item\u001b[0;34m()\u001b[0m\n",
      "\u001b[0;31mKeyError\u001b[0m: 'count'",
      "\nThe above exception was the direct cause of the following exception:\n",
      "\u001b[0;31mKeyError\u001b[0m                                  Traceback (most recent call last)",
      "Cell \u001b[0;32mIn[2], line 1\u001b[0m\n\u001b[0;32m----> 1\u001b[0m df \u001b[38;5;241m=\u001b[39m \u001b[43mt2p\u001b[49m\u001b[38;5;241;43m.\u001b[39;49m\u001b[43mload_sim_gals_and_halos\u001b[49m\u001b[43m(\u001b[49m\u001b[43mbase_path\u001b[49m\u001b[43m)\u001b[49m\n",
      "File \u001b[0;32m~/Projects/tng-code/tng2pandas.py:194\u001b[0m, in \u001b[0;36mload_sim_gals_and_halos\u001b[0;34m(base_path, snapshot)\u001b[0m\n\u001b[1;32m    192\u001b[0m halos \u001b[38;5;241m=\u001b[39m ilsim\u001b[38;5;241m.\u001b[39mgroupcat\u001b[38;5;241m.\u001b[39mloadHalos(base_path, snapshot, fields\u001b[38;5;241m=\u001b[39mfields)\n\u001b[1;32m    193\u001b[0m \u001b[38;5;66;03m#identify central galaxies\u001b[39;00m\n\u001b[0;32m--> 194\u001b[0m Nhalos \u001b[38;5;241m=\u001b[39m \u001b[43mdf\u001b[49m\u001b[38;5;241;43m.\u001b[39;49m\u001b[43mpop\u001b[49m\u001b[43m(\u001b[49m\u001b[38;5;124;43m'\u001b[39;49m\u001b[38;5;124;43mcount\u001b[39;49m\u001b[38;5;124;43m'\u001b[39;49m\u001b[43m)\u001b[49m\n\u001b[1;32m    195\u001b[0m central \u001b[38;5;241m=\u001b[39m np\u001b[38;5;241m.\u001b[39mzeros(Nhalos, dtype\u001b[38;5;241m=\u001b[39m\u001b[38;5;124m'\u001b[39m\u001b[38;5;124mint\u001b[39m\u001b[38;5;124m'\u001b[39m)\n\u001b[1;32m    196\u001b[0m central[halos[\u001b[38;5;124m'\u001b[39m\u001b[38;5;124mGroupFirstSub\u001b[39m\u001b[38;5;124m'\u001b[39m]] \u001b[38;5;241m=\u001b[39m \u001b[38;5;241m1\u001b[39m\n",
      "File \u001b[0;32m~/miniforge3/lib/python3.10/site-packages/pandas/core/frame.py:5273\u001b[0m, in \u001b[0;36mDataFrame.pop\u001b[0;34m(self, item)\u001b[0m\n\u001b[1;32m   5232\u001b[0m \u001b[38;5;28;01mdef\u001b[39;00m \u001b[38;5;21mpop\u001b[39m(\u001b[38;5;28mself\u001b[39m, item: Hashable) \u001b[38;5;241m-\u001b[39m\u001b[38;5;241m>\u001b[39m Series:\n\u001b[1;32m   5233\u001b[0m     \u001b[38;5;124;03m\"\"\"\u001b[39;00m\n\u001b[1;32m   5234\u001b[0m \u001b[38;5;124;03m    Return item and drop from frame. Raise KeyError if not found.\u001b[39;00m\n\u001b[1;32m   5235\u001b[0m \n\u001b[0;32m   (...)\u001b[0m\n\u001b[1;32m   5271\u001b[0m \u001b[38;5;124;03m    3  monkey        NaN\u001b[39;00m\n\u001b[1;32m   5272\u001b[0m \u001b[38;5;124;03m    \"\"\"\u001b[39;00m\n\u001b[0;32m-> 5273\u001b[0m     \u001b[38;5;28;01mreturn\u001b[39;00m \u001b[38;5;28;43msuper\u001b[39;49m\u001b[43m(\u001b[49m\u001b[43m)\u001b[49m\u001b[38;5;241;43m.\u001b[39;49m\u001b[43mpop\u001b[49m\u001b[43m(\u001b[49m\u001b[43mitem\u001b[49m\u001b[38;5;241;43m=\u001b[39;49m\u001b[43mitem\u001b[49m\u001b[43m)\u001b[49m\n",
      "File \u001b[0;32m~/miniforge3/lib/python3.10/site-packages/pandas/core/generic.py:865\u001b[0m, in \u001b[0;36mNDFrame.pop\u001b[0;34m(self, item)\u001b[0m\n\u001b[1;32m    864\u001b[0m \u001b[38;5;28;01mdef\u001b[39;00m \u001b[38;5;21mpop\u001b[39m(\u001b[38;5;28mself\u001b[39m, item: Hashable) \u001b[38;5;241m-\u001b[39m\u001b[38;5;241m>\u001b[39m Series \u001b[38;5;241m|\u001b[39m Any:\n\u001b[0;32m--> 865\u001b[0m     result \u001b[38;5;241m=\u001b[39m \u001b[38;5;28;43mself\u001b[39;49m\u001b[43m[\u001b[49m\u001b[43mitem\u001b[49m\u001b[43m]\u001b[49m\n\u001b[1;32m    866\u001b[0m     \u001b[38;5;28;01mdel\u001b[39;00m \u001b[38;5;28mself\u001b[39m[item]\n\u001b[1;32m    868\u001b[0m     \u001b[38;5;28;01mreturn\u001b[39;00m result\n",
      "File \u001b[0;32m~/miniforge3/lib/python3.10/site-packages/pandas/core/frame.py:3505\u001b[0m, in \u001b[0;36mDataFrame.__getitem__\u001b[0;34m(self, key)\u001b[0m\n\u001b[1;32m   3503\u001b[0m \u001b[38;5;28;01mif\u001b[39;00m \u001b[38;5;28mself\u001b[39m\u001b[38;5;241m.\u001b[39mcolumns\u001b[38;5;241m.\u001b[39mnlevels \u001b[38;5;241m>\u001b[39m \u001b[38;5;241m1\u001b[39m:\n\u001b[1;32m   3504\u001b[0m     \u001b[38;5;28;01mreturn\u001b[39;00m \u001b[38;5;28mself\u001b[39m\u001b[38;5;241m.\u001b[39m_getitem_multilevel(key)\n\u001b[0;32m-> 3505\u001b[0m indexer \u001b[38;5;241m=\u001b[39m \u001b[38;5;28;43mself\u001b[39;49m\u001b[38;5;241;43m.\u001b[39;49m\u001b[43mcolumns\u001b[49m\u001b[38;5;241;43m.\u001b[39;49m\u001b[43mget_loc\u001b[49m\u001b[43m(\u001b[49m\u001b[43mkey\u001b[49m\u001b[43m)\u001b[49m\n\u001b[1;32m   3506\u001b[0m \u001b[38;5;28;01mif\u001b[39;00m is_integer(indexer):\n\u001b[1;32m   3507\u001b[0m     indexer \u001b[38;5;241m=\u001b[39m [indexer]\n",
      "File \u001b[0;32m~/miniforge3/lib/python3.10/site-packages/pandas/core/indexes/base.py:3631\u001b[0m, in \u001b[0;36mIndex.get_loc\u001b[0;34m(self, key, method, tolerance)\u001b[0m\n\u001b[1;32m   3629\u001b[0m     \u001b[38;5;28;01mreturn\u001b[39;00m \u001b[38;5;28mself\u001b[39m\u001b[38;5;241m.\u001b[39m_engine\u001b[38;5;241m.\u001b[39mget_loc(casted_key)\n\u001b[1;32m   3630\u001b[0m \u001b[38;5;28;01mexcept\u001b[39;00m \u001b[38;5;167;01mKeyError\u001b[39;00m \u001b[38;5;28;01mas\u001b[39;00m err:\n\u001b[0;32m-> 3631\u001b[0m     \u001b[38;5;28;01mraise\u001b[39;00m \u001b[38;5;167;01mKeyError\u001b[39;00m(key) \u001b[38;5;28;01mfrom\u001b[39;00m \u001b[38;5;21;01merr\u001b[39;00m\n\u001b[1;32m   3632\u001b[0m \u001b[38;5;28;01mexcept\u001b[39;00m \u001b[38;5;167;01mTypeError\u001b[39;00m:\n\u001b[1;32m   3633\u001b[0m     \u001b[38;5;66;03m# If we have a listlike key, _check_indexing_error will raise\u001b[39;00m\n\u001b[1;32m   3634\u001b[0m     \u001b[38;5;66;03m#  InvalidIndexError. Otherwise we fall through and re-raise\u001b[39;00m\n\u001b[1;32m   3635\u001b[0m     \u001b[38;5;66;03m#  the TypeError.\u001b[39;00m\n\u001b[1;32m   3636\u001b[0m     \u001b[38;5;28mself\u001b[39m\u001b[38;5;241m.\u001b[39m_check_indexing_error(key)\n",
      "\u001b[0;31mKeyError\u001b[0m: 'count'"
     ]
    }
   ],
   "source": [
    "df = t2p.load_sim_gals_and_halos(base_path)"
   ]
  },
  {
   "cell_type": "code",
   "execution_count": null,
   "id": "12a7fb3a-152b-4900-947f-d1d36f2decb4",
   "metadata": {},
   "outputs": [],
   "source": [
    "list(df)"
   ]
  },
  {
   "cell_type": "code",
   "execution_count": null,
   "id": "b940eb9b-cd60-4b0d-9aef-2f1015de2baf",
   "metadata": {},
   "outputs": [],
   "source": []
  }
 ],
 "metadata": {
  "kernelspec": {
   "display_name": "Python 3 (ipykernel)",
   "language": "python",
   "name": "python3"
  },
  "language_info": {
   "codemirror_mode": {
    "name": "ipython",
    "version": 3
   },
   "file_extension": ".py",
   "mimetype": "text/x-python",
   "name": "python",
   "nbconvert_exporter": "python",
   "pygments_lexer": "ipython3",
   "version": "3.10.6"
  }
 },
 "nbformat": 4,
 "nbformat_minor": 5
}
