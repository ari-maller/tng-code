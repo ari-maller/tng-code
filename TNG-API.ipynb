{
 "cells": [
  {
   "cell_type": "code",
   "execution_count": 1,
   "id": "a6f316bd-5acc-47da-b302-b176868caa9f",
   "metadata": {},
   "outputs": [],
   "source": [
    "import requests\n",
    "import numpy as np\n",
    "import matplotlib.pyplot as plt\n",
    "\n",
    "\n",
    "baseUrl = 'http://www.tng-project.org/api/'\n",
    "headers = {\"api-key\":\"128c8b59f9c4eaa4e1841e31ca2bde32\"}"
   ]
  },
  {
   "cell_type": "code",
   "execution_count": 2,
   "id": "b4f9a65b-a901-4c27-912c-c5f029df8ec4",
   "metadata": {},
   "outputs": [],
   "source": [
    "def get(path, params=None):\n",
    "    # make HTTP GET request to path\n",
    "    r = requests.get(path, params=params, headers=headers)\n",
    "\n",
    "    # raise exception if response code is not HTTP SUCCESS (200)\n",
    "    r.raise_for_status()\n",
    "\n",
    "    if r.headers['content-type'] == 'application/json':\n",
    "        return r.json() # parse json responses automatically\n",
    "\n",
    "    if 'content-disposition' in r.headers:\n",
    "        filename = r.headers['content-disposition'].split(\"filename=\")[1]\n",
    "        with open(filename, 'wb') as f:\n",
    "            f.write(r.content)\n",
    "        return filename # return the filename string\n",
    "\n",
    "    return r"
   ]
  },
  {
   "cell_type": "code",
   "execution_count": 7,
   "id": "3ff73f05-323d-4560-b469-df9e932b718a",
   "metadata": {},
   "outputs": [
    {
     "name": "stdout",
     "output_type": "stream",
     "text": [
      "{'snap': 99, 'id': 185, 'bhmdot': 0.0, 'cm_x': 558.429, 'cm_y': 26805.0, 'cm_z': 18065.3, 'gasmetallicity': 0.0, 'gasmetallicityhalfrad': 0.0, 'gasmetallicitymaxrad': 0.0, 'gasmetallicitysfr': 0.0, 'gasmetallicitysfrweighted': 0.0, 'pos_x': 558.016, 'pos_y': 26805.6, 'pos_z': 18064.8, 'halfmassrad': 11.5665, 'halfmassrad_gas': 0.0, 'halfmassrad_dm': 11.5665, 'halfmassrad_stars': 0.0, 'halfmassrad_bhs': 0.0, 'len': 113, 'len_gas': 0, 'len_dm': 111, 'len_stars': 2, 'len_bhs': 0, 'mass': 3.59931, 'mass_gas': 0.0, 'mass_dm': 3.5916, 'mass_stars': 0.007712, 'mass_bhs': 0.0, 'massinhalfrad': 0.0, 'massinhalfrad_gas': 0.0, 'massinhalfrad_dm': 0.0, 'massinhalfrad_stars': 0.0, 'massinhalfrad_bhs': 0.0, 'massinmaxrad': 1.90905, 'massinmaxrad_gas': 0.0, 'massinmaxrad_dm': 1.90905, 'massinmaxrad_stars': 0.0, 'massinmaxrad_bhs': 0.0, 'massinrad': 0.0, 'massinrad_gas': 0.0, 'massinrad_dm': 0.0, 'massinrad_stars': 0.0, 'massinrad_bhs': 0.0, 'sfr': 0.0, 'sfrinhalfrad': 0.0, 'sfrinmaxrad': 0.0, 'sfrinrad': 0.0, 'spin_x': -55.8869, 'spin_y': -60.42, 'spin_z': -76.3273, 'starmetallicity': 0.0, 'starmetallicityhalfrad': 0.0, 'starmetallicitymaxrad': 0.0, 'stellarphotometrics_u': -13.9459, 'stellarphotometrics_b': -13.9677, 'stellarphotometrics_v': -14.5778, 'stellarphotometrics_k': -16.539, 'stellarphotometrics_g': -14.3189, 'stellarphotometrics_r': -14.8332, 'stellarphotometrics_i': -15.0574, 'stellarphotometrics_z': -15.1615, 'stellarphotometricsmassinrad': 0.0, 'stellarphotometricsrad': 2.0, 'vel_x': -1002.61, 'vel_y': -858.788, 'vel_z': -913.346, 'veldisp': 42.8676, 'vmax': 83.3339, 'vmaxrad': 11.8258, 'windmass': 0.0, 'prog_snap': 98, 'prog_sfid': 187, 'desc_snap': -1, 'desc_sfid': -1, 'parent': 0, 'grnr': 0, 'primary_flag': 0, 'mass_log_msun': 10.725374060704812, 'related': {'sublink_progenitor': 'http://www.tng-project.org/api/TNG100-3/snapshots/98/subhalos/187/', 'sublink_descendant': None, 'parent_halo': 'http://www.tng-project.org/api/TNG100-3/snapshots/99/halos/0/'}, 'cutouts': {'subhalo': 'http://www.tng-project.org/api/TNG100-3/snapshots/99/subhalos/185/cutout.hdf5', 'parent_halo': 'http://www.tng-project.org/api/TNG100-3/snapshots/99/halos/0/cutout.hdf5'}, 'trees': {'sublink': 'http://www.tng-project.org/api/TNG100-3/snapshots/99/subhalos/185/sublink/full.hdf5', 'sublink_mpb': 'http://www.tng-project.org/api/TNG100-3/snapshots/99/subhalos/185/sublink/mpb.hdf5', 'sublink_mdb': 'http://www.tng-project.org/api/TNG100-3/snapshots/99/subhalos/185/sublink/mdb.hdf5', 'sublink_simple': 'http://www.tng-project.org/api/TNG100-3/snapshots/99/subhalos/185/sublink/simple.json', 'lhalotree': 'http://www.tng-project.org/api/TNG100-3/snapshots/99/subhalos/185/lhalotree/full.hdf5', 'lhalotree_mpb': 'http://www.tng-project.org/api/TNG100-3/snapshots/99/subhalos/185/lhalotree/mpb.hdf5'}, 'supplementary_data': {'tracer_tracks': {'TracerIDs': 'http://www.tng-project.org/api/TNG100-3/snapshots/99/subhalos/185/cutout.hdf5?tracer_tracks=TracerIDs', 'ParentIDs': 'http://www.tng-project.org/api/TNG100-3/snapshots/99/subhalos/185/cutout.hdf5?tracer_tracks=ParentIDs', 'parent_indextype': 'http://www.tng-project.org/api/TNG100-3/snapshots/99/subhalos/185/cutout.hdf5?tracer_tracks=parent_indextype', 'subhalo_id': 'http://www.tng-project.org/api/TNG100-3/snapshots/99/subhalos/185/cutout.hdf5?tracer_tracks=subhalo_id', 'angmom': 'http://www.tng-project.org/api/TNG100-3/snapshots/99/subhalos/185/cutout.hdf5?tracer_tracks=angmom', 'entr': 'http://www.tng-project.org/api/TNG100-3/snapshots/99/subhalos/185/cutout.hdf5?tracer_tracks=entr', 'pos': 'http://www.tng-project.org/api/TNG100-3/snapshots/99/subhalos/185/cutout.hdf5?tracer_tracks=pos', 'rad_rvir': 'http://www.tng-project.org/api/TNG100-3/snapshots/99/subhalos/185/cutout.hdf5?tracer_tracks=rad_rvir', 'sfr': 'http://www.tng-project.org/api/TNG100-3/snapshots/99/subhalos/185/cutout.hdf5?tracer_tracks=sfr', 'temp': 'http://www.tng-project.org/api/TNG100-3/snapshots/99/subhalos/185/cutout.hdf5?tracer_tracks=temp', 'vel': 'http://www.tng-project.org/api/TNG100-3/snapshots/99/subhalos/185/cutout.hdf5?tracer_tracks=vel'}}, 'vis': {'mergertree_sublink': 'http://www.tng-project.org/api/TNG100-3/snapshots/99/subhalos/185/sublink/tree.png', 'halo_gas_dens': 'http://www.tng-project.org/api/TNG100-3/snapshots/99/subhalos/185/vis.png?partType=gas', 'halo_gas_temp': 'http://www.tng-project.org/api/TNG100-3/snapshots/99/subhalos/185/vis.png?partType=gas&partField=temp', 'halo_dm_dens': 'http://www.tng-project.org/api/TNG100-3/snapshots/99/subhalos/185/vis.png?partType=dm', 'halo_stellar_dens': 'http://www.tng-project.org/api/TNG100-3/snapshots/99/subhalos/185/vis.png?partType=stars', 'galaxy_gas_dens': 'http://www.tng-project.org/api/TNG100-3/snapshots/99/subhalos/185/vis.png?partType=gas&size=5.0&sizeType=rHalfMassStars', 'galaxy_gas_dens_faceon': 'http://www.tng-project.org/api/TNG100-3/snapshots/99/subhalos/185/vis.png?partType=gas&size=5.0&sizeType=rHalfMassStars&rotation=face-on', 'galaxy_stellar_light': 'http://www.tng-project.org/api/TNG100-3/snapshots/99/subhalos/185/vis.png?partType=stars&partField=stellarComp-jwst_f200w-jwst_f115w-jwst_f070w&size=5.0&sizeType=rHalfMassStars', 'galaxy_stellar_light_faceon': 'http://www.tng-project.org/api/TNG100-3/snapshots/99/subhalos/185/vis.png?partType=stars&partField=stellarComp-jwst_f200w-jwst_f115w-jwst_f070w&size=5.0&sizeType=rHalfMassStars&rotation=face-on'}, 'meta': {'url': 'http://www.tng-project.org/api/TNG100-3/snapshots/99/subhalos/185/', 'snapshot': 'http://www.tng-project.org/api/TNG100-3/snapshots/99/', 'simulation': 'http://www.tng-project.org/api/TNG100-3/', 'info': 'http://www.tng-project.org/api/TNG100-3/snapshots/99/subhalos/185/info.json'}}\n"
     ]
    }
   ],
   "source": [
    "sub_prog_url = \"http://www.tng-project.org/api/TNG100-3/snapshots/99/subhalos/185/\"\n",
    "sub_prog = get(sub_prog_url)\n",
    "print(sub_prog)"
   ]
  },
  {
   "cell_type": "code",
   "execution_count": 4,
   "id": "a6a8a559-d3a5-47d8-9bd4-3b736cc9a8ca",
   "metadata": {},
   "outputs": [],
   "source": [
    "cutout= get(sub_prog_url+\"cutout.hdf5\")"
   ]
  },
  {
   "cell_type": "code",
   "execution_count": 5,
   "id": "a0cf27d5-e06b-42e9-8bd1-527d79faae64",
   "metadata": {},
   "outputs": [
    {
     "name": "stdout",
     "output_type": "stream",
     "text": [
      "cutout_185.hdf5\n"
     ]
    }
   ],
   "source": [
    "print(cutout)"
   ]
  },
  {
   "cell_type": "code",
   "execution_count": null,
   "id": "4c78f952-2288-4afb-bdbf-f5008ae199d5",
   "metadata": {},
   "outputs": [],
   "source": []
  },
  {
   "cell_type": "code",
   "execution_count": null,
   "id": "291f1c04-88c1-48af-afc6-29f86a50cf9c",
   "metadata": {},
   "outputs": [],
   "source": []
  }
 ],
 "metadata": {
  "kernelspec": {
   "display_name": "sklearn-env",
   "language": "python",
   "name": "python3"
  },
  "language_info": {
   "codemirror_mode": {
    "name": "ipython",
    "version": 3
   },
   "file_extension": ".py",
   "mimetype": "text/x-python",
   "name": "python",
   "nbconvert_exporter": "python",
   "pygments_lexer": "ipython3",
   "version": "3.10.8 | packaged by conda-forge | (main, Nov 22 2022, 08:27:35) [Clang 14.0.6 ]"
  },
  "vscode": {
   "interpreter": {
    "hash": "897312cffa31465e4874836598c35a8549f9ecd7759f8866bc57dbcb2bd46d51"
   }
  }
 },
 "nbformat": 4,
 "nbformat_minor": 5
}
