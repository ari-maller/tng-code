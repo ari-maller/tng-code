{
 "cells": [
  {
   "cell_type": "code",
   "execution_count": 33,
   "id": "0770bd96-22c4-495e-97a2-e41ed0d8eae4",
   "metadata": {},
   "outputs": [],
   "source": [
    "#notebook working with L galaxies SAM\n",
    "import h5py\n",
    "import numpy as np\n",
    "import pandas as pd\n",
    "import matplotlib.pyplot as plt"
   ]
  },
  {
   "cell_type": "code",
   "execution_count": 133,
   "id": "791abf61-e6ca-45a7-9a4a-8a4012b4e44a",
   "metadata": {},
   "outputs": [
    {
     "name": "stdout",
     "output_type": "stream",
     "text": [
      "/Users/ari/Data/TNG/TNG100-1/postprocessing/LGalaxies_099.hdf5\n"
     ]
    }
   ],
   "source": [
    "filePath = '/Users/ari/Data/TNG/TNG100-1/postprocessing/LGalaxies_099.hdf5'\n",
    "base_path = '/Users/ari/Data/TNG/TNG100-1/'\n",
    "snapshot = 99\n",
    "filePath2 = base_path+'postprocessing/LGalaxies_{:03d}.hdf5'.format(snapshot)\n",
    "print(filePath2)"
   ]
  },
  {
   "cell_type": "code",
   "execution_count": 20,
   "id": "76e67ee5-3ea7-41a4-9572-19b24bb65281",
   "metadata": {},
   "outputs": [
    {
     "name": "stdout",
     "output_type": "stream",
     "text": [
      "<KeysViewHDF5 ['Galaxy', 'Header']>\n",
      "<HDF5 group \"/Header\" (0 members)>\n",
      "<KeysViewHDF5 ['BlackHoleMass', 'BulgeSize', 'Central_M_Crit200', 'Central_R_Crit200', 'ColdGasMass', 'ColdGasSpin', 'CoolingRadius', 'CoolingRate', 'CoolingRate_beforeAGN', 'CosInclination', 'DisruptOn', 'DistanceToCentralGal', 'EjectedMass', 'GasDiskRadius', 'HaloStellarMass', 'HotGasMass', 'HotGasRadius', 'InfallHotGasMass', 'InfallSnap', 'InfallVmax', 'InfallVmaxPeak', 'M_Crit200', 'Mag', 'MagBulge', 'MagDust', 'MassWeightAge', 'MergeOn', 'MergeTime', 'MetalsBulgeMass', 'MetalsColdGasMass', 'MetalsDiskMass', 'MetalsEjectedMass', 'MetalsHaloStellarMass', 'MetalsHotGasMass', 'MetalsStellarMass', 'OriMergeTime', 'Pos', 'PrimordialAccretionRate', 'QuasarAccretionRate', 'R_Crit200', 'RadioAccretionRate', 'StarFormationRate', 'StarFormationRateBulge', 'StellarBulgeMass', 'StellarDiskMass', 'StellarDiskRadius', 'StellarDiskSpin', 'StellarMass', 'SubhaloIndex_TNG', 'SubhaloIndex_TNG-Dark', 'SuhaloLen', 'Type', 'Vel', 'Vmax', 'Vvir', 'XrayLum']>\n"
     ]
    }
   ],
   "source": [
    "with h5py.File(filePath,'r') as f:\n",
    "    print(f['Galaxy'].keys())"
   ]
  },
  {
   "cell_type": "code",
   "execution_count": 76,
   "id": "6ef25967-b2cd-46d0-ba2d-53abe1db4d9c",
   "metadata": {},
   "outputs": [],
   "source": [
    "df = pd.DataFrame()\n",
    "with h5py.File(filePath,'r') as f:\n",
    "    for field in f['Galaxy'].keys():\n",
    "        tmp = f['Galaxy/'+field][()]\n",
    "        if tmp.ndim > 1:\n",
    "            if tmp.shape[1]==3: #if 20 a magnitude, skip for now\n",
    "                df[field+'X'] = tmp[:,0]\n",
    "                df[field+'Y'] = tmp[:,1]\n",
    "                df[field+'Z'] = tmp[:,2]\n",
    "        else:\n",
    "            df[field] = tmp\n",
    "                       "
   ]
  },
  {
   "cell_type": "code",
   "execution_count": 77,
   "id": "4e5b0d64-39f5-40f6-8796-e9629ae76e01",
   "metadata": {},
   "outputs": [
    {
     "name": "stdout",
     "output_type": "stream",
     "text": [
      "(6047647, 63)\n"
     ]
    },
    {
     "data": {
      "text/plain": [
       "Index(['BlackHoleMass', 'BulgeSize', 'Central_M_Crit200', 'Central_R_Crit200',\n",
       "       'ColdGasMass', 'ColdGasSpinX', 'ColdGasSpinY', 'ColdGasSpinZ',\n",
       "       'CoolingRadius', 'CoolingRate', 'CoolingRate_beforeAGN',\n",
       "       'CosInclination', 'DisruptOn', 'DistanceToCentralGalX',\n",
       "       'DistanceToCentralGalY', 'DistanceToCentralGalZ', 'EjectedMass',\n",
       "       'GasDiskRadius', 'HaloStellarMass', 'HotGasMass', 'HotGasRadius',\n",
       "       'InfallHotGasMass', 'InfallSnap', 'InfallVmax', 'InfallVmaxPeak',\n",
       "       'M_Crit200', 'MassWeightAge', 'MergeOn', 'MergeTime', 'MetalsBulgeMass',\n",
       "       'MetalsColdGasMass', 'MetalsDiskMass', 'MetalsEjectedMass',\n",
       "       'MetalsHaloStellarMass', 'MetalsHotGasMass', 'MetalsStellarMass',\n",
       "       'OriMergeTime', 'PosX', 'PosY', 'PosZ', 'PrimordialAccretionRate',\n",
       "       'QuasarAccretionRate', 'R_Crit200', 'RadioAccretionRate',\n",
       "       'StarFormationRate', 'StarFormationRateBulge', 'StellarBulgeMass',\n",
       "       'StellarDiskMass', 'StellarDiskRadius', 'StellarDiskSpinX',\n",
       "       'StellarDiskSpinY', 'StellarDiskSpinZ', 'StellarMass',\n",
       "       'SubhaloIndex_TNG', 'SubhaloIndex_TNG-Dark', 'SuhaloLen', 'Type',\n",
       "       'VelX', 'VelY', 'VelZ', 'Vmax', 'Vvir', 'XrayLum'],\n",
       "      dtype='object')"
      ]
     },
     "execution_count": 77,
     "metadata": {},
     "output_type": "execute_result"
    }
   ],
   "source": [
    "print(df.shape)\n",
    "df.keys()"
   ]
  },
  {
   "cell_type": "code",
   "execution_count": 78,
   "id": "ac62527e-ce4f-44b5-ac14-98a397a67d10",
   "metadata": {},
   "outputs": [],
   "source": [
    "mass_fields = ['BlackHoleMass', 'Central_M_Crit200', 'ColdGasMass', 'EjectedMass', 'HaloStellarMass',\n",
    "               'HotGasMass', 'StellarMass', 'StellarDiskMass','StellarBulgeMass','MetalsBulgeMass',\n",
    "               'MetalsColdGasMass', 'MetalsDiskMass', 'MetalsEjectedMass', 'MetalsHaloStellarMass', \n",
    "               'MetalsHotGasMass', 'MetalsStellarMass', 'M_Crit200'] \n",
    "size_fields = ['BulgeSize','GasDiskRadius','HotGasRadius','Central_R_Crit200', 'CoolingRadius','R_Crit200']\n",
    "spin_fields = []  \n",
    "hubble_value = 0.74\n",
    "a=1.0\n",
    "for f in list(df):\n",
    "    if f in mass_fields:\n",
    "        df[f] = df[f]*1.e10/hubble_value\n",
    "    if f in size_fields:\n",
    "        df[f] = df[f]/hubble_value*a #comoving multiply by expansion factor\n",
    "        \n"
   ]
  },
  {
   "cell_type": "code",
   "execution_count": 95,
   "id": "7b51d6f8-d088-407b-9e97-8098ea5a6daa",
   "metadata": {},
   "outputs": [
    {
     "name": "stderr",
     "output_type": "stream",
     "text": [
      "/var/folders/fj/q1982v3n2zn210pjssk3yyjw0000gq/T/ipykernel_1546/1932421826.py:4: RuntimeWarning: divide by zero encountered in log10\n",
      "  plt.stairs(np.log10(counts),bins)\n",
      "/var/folders/fj/q1982v3n2zn210pjssk3yyjw0000gq/T/ipykernel_1546/1932421826.py:7: RuntimeWarning: divide by zero encountered in log10\n",
      "  plt.stairs(np.log10(counts),bins)\n",
      "/var/folders/fj/q1982v3n2zn210pjssk3yyjw0000gq/T/ipykernel_1546/1932421826.py:9: RuntimeWarning: divide by zero encountered in log10\n",
      "  plt.stairs(np.log10(counts),bins)\n"
     ]
    },
    {
     "data": {
      "text/plain": [
       "<matplotlib.patches.StepPatch at 0x28cee0d30>"
      ]
     },
     "execution_count": 95,
     "metadata": {},
     "output_type": "execute_result"
    },
    {
     "data": {
      "image/png": "[encoded data removed]",
      "text/plain": [
       "<Figure size 640x480 with 1 Axes>"
      ]
     },
     "metadata": {},
     "output_type": "display_data"
    }
   ],
   "source": [
    "counts,bins = np.histogram(np.log10(df['Central_M_Crit200'][df['Type']==0]),bins=100,range=[8,14])\n",
    "plt.stairs(np.log10(counts),bins)\n",
    "counts,bins = np.histogram(np.log10(df['StellarMass'][df['Type']==0]),bins=100,range=[2,12])\n",
    "plt.stairs(np.log10(counts),bins)\n",
    "cut10 = np.logical_and(df['Type']==0,df['Central_M_Crit200'] > 1.e10)\n",
    "counts,bins = np.histogram(np.log10(df['Central_M_Crit200'][cut10]),bins=100,range=[8,14])\n",
    "plt.stairs(np.log10(counts),bins)\n",
    "counts,bins = np.histogram(np.log10(df['StellarMass'][cut10]),bins=100,range=[2,12])\n",
    "plt.stairs(np.log10(counts),bins)"
   ]
  },
  {
   "cell_type": "code",
   "execution_count": 67,
   "id": "084e1c54-df17-478e-b921-7180ffb77263",
   "metadata": {},
   "outputs": [
    {
     "data": {
      "text/plain": [
       "(16268, 63)"
      ]
     },
     "execution_count": 67,
     "metadata": {},
     "output_type": "execute_result"
    }
   ],
   "source": [
    "df = df[df['StellarMass'] > 1.e9]\n",
    "df.shape"
   ]
  },
  {
   "cell_type": "code",
   "execution_count": 75,
   "id": "82e2128f-5673-44a3-90b9-0457f9752fb8",
   "metadata": {},
   "outputs": [
    {
     "name": "stdout",
     "output_type": "stream",
     "text": [
      "991\n"
     ]
    }
   ],
   "source": [
    "print((df['Type']==2).sum())"
   ]
  },
  {
   "cell_type": "code",
   "execution_count": 96,
   "id": "ef78a0b2-2d75-44a8-8bba-8500b966662f",
   "metadata": {},
   "outputs": [],
   "source": [
    "df_dmo = pd.read_hdf('tng-dmo.h5')"
   ]
  },
  {
   "cell_type": "code",
   "execution_count": 98,
   "id": "ddda4149-d934-4701-803b-67b70d8cb713",
   "metadata": {},
   "outputs": [
    {
     "data": {
      "text/plain": [
       "1769"
      ]
     },
     "execution_count": 98,
     "metadata": {},
     "output_type": "execute_result"
    }
   ],
   "source": [
    "(df_dmo['SubhaloParent']>0).sum()"
   ]
  },
  {
   "cell_type": "code",
   "execution_count": 104,
   "id": "797ad822-7736-427f-a609-cfb96b6b11ab",
   "metadata": {},
   "outputs": [],
   "source": [
    "df_j = df.join(df_dmo,on='SubhaloIndex_TNG-Dark',rsuffix = '_dmo') "
   ]
  },
  {
   "cell_type": "code",
   "execution_count": 105,
   "id": "980b1524-d9d9-4f3a-8c9f-d59108335363",
   "metadata": {},
   "outputs": [
    {
     "data": {
      "text/plain": [
       "Index(['BlackHoleMass', 'BulgeSize', 'Central_M_Crit200', 'Central_R_Crit200',\n",
       "       'ColdGasMass', 'ColdGasSpinX', 'ColdGasSpinY', 'ColdGasSpinZ',\n",
       "       'CoolingRadius', 'CoolingRate', 'CoolingRate_beforeAGN',\n",
       "       'CosInclination', 'DisruptOn', 'DistanceToCentralGalX',\n",
       "       'DistanceToCentralGalY', 'DistanceToCentralGalZ', 'EjectedMass',\n",
       "       'GasDiskRadius', 'HaloStellarMass', 'HotGasMass', 'HotGasRadius',\n",
       "       'InfallHotGasMass', 'InfallSnap', 'InfallVmax', 'InfallVmaxPeak',\n",
       "       'M_Crit200', 'MassWeightAge', 'MergeOn', 'MergeTime', 'MetalsBulgeMass',\n",
       "       'MetalsColdGasMass', 'MetalsDiskMass', 'MetalsEjectedMass',\n",
       "       'MetalsHaloStellarMass', 'MetalsHotGasMass', 'MetalsStellarMass',\n",
       "       'OriMergeTime', 'PosX', 'PosY', 'PosZ', 'PrimordialAccretionRate',\n",
       "       'QuasarAccretionRate', 'R_Crit200', 'RadioAccretionRate',\n",
       "       'StarFormationRate', 'StarFormationRateBulge', 'StellarBulgeMass',\n",
       "       'StellarDiskMass', 'StellarDiskRadius', 'StellarDiskSpinX',\n",
       "       'StellarDiskSpinY', 'StellarDiskSpinZ', 'StellarMass',\n",
       "       'SubhaloIndex_TNG', 'SubhaloIndex_TNG-Dark', 'SuhaloLen', 'Type',\n",
       "       'VelX', 'VelY', 'VelZ', 'Vmax', 'Vvir', 'XrayLum', 'count', 'GroupMass',\n",
       "       'GroupNsubs', 'Group_M_Crit200', 'Group_M_Crit500', 'Group_M_Mean200',\n",
       "       'Group_M_TopHat200', 'Group_R_Crit200', 'Group_R_Crit500',\n",
       "       'Group_R_Mean200', 'Group_R_TopHat200', 'count_s', 'SubhaloHalfmassRad',\n",
       "       'SubhaloMass', 'SubhaloMassInMaxRad', 'SubhaloParent', 'SubhaloVelDisp',\n",
       "       'SubhaloVmax', 'SubhaloVmaxRad', 'SubhaloJx', 'SubhaloJy', 'SubhaloJz'],\n",
       "      dtype='object')"
      ]
     },
     "execution_count": 105,
     "metadata": {},
     "output_type": "execute_result"
    }
   ],
   "source": [
    "df_j.keys()"
   ]
  },
  {
   "cell_type": "code",
   "execution_count": 112,
   "id": "3d34794e-c0d6-4a4d-a9ee-2511284c9d93",
   "metadata": {},
   "outputs": [
    {
     "data": {
      "text/plain": [
       "<matplotlib.collections.PathCollection at 0x11f2bd2d0>"
      ]
     },
     "execution_count": 112,
     "metadata": {},
     "output_type": "execute_result"
    },
    {
     "data": {
      "image/png": "[encoded data removed]",
      "text/plain": [
       "<Figure size 640x480 with 1 Axes>"
      ]
     },
     "metadata": {},
     "output_type": "display_data"
    }
   ],
   "source": [
    "cent = df_j['Type']==0\n",
    "plt.scatter(df_j['Vmax'][cent],df_j['SubhaloVmax'][cent],s=1)"
   ]
  },
  {
   "cell_type": "code",
   "execution_count": 113,
   "id": "41154877-49bf-476e-bed3-e1b903a2f87a",
   "metadata": {},
   "outputs": [],
   "source": [
    "import illustris_python as ilsim"
   ]
  },
  {
   "cell_type": "code",
   "execution_count": 117,
   "id": "eef929c2-8e96-4a93-ba00-4c43f9668cf6",
   "metadata": {},
   "outputs": [],
   "source": [
    "basePath = '/Users/ari/Data/TNG/TNG100-1-Dark/output'\n",
    "subs = ilsim.groupcat.loadSubhalos(basePath, 99)"
   ]
  },
  {
   "cell_type": "code",
   "execution_count": 121,
   "id": "dce03778-6434-48cc-8217-90daa5b608d9",
   "metadata": {},
   "outputs": [
    {
     "data": {
      "text/plain": [
       "<matplotlib.collections.PathCollection at 0x28dc7ba60>"
      ]
     },
     "execution_count": 121,
     "metadata": {},
     "output_type": "execute_result"
    },
    {
     "data": {
      "image/png": "[encoded data removed]",
      "text/plain": [
       "<Figure size 640x480 with 1 Axes>"
      ]
     },
     "metadata": {},
     "output_type": "display_data"
    }
   ],
   "source": [
    "cent = df['Type']==0\n",
    "plt.scatter(df['Vmax'],subs['SubhaloVmax'][df['SubhaloIndex_TNG-Dark']],s=1)"
   ]
  },
  {
   "cell_type": "code",
   "execution_count": 134,
   "id": "9ac30521-bb81-4229-b6aa-af0f0d7a9be1",
   "metadata": {},
   "outputs": [
    {
     "data": {
      "text/plain": [
       "2"
      ]
     },
     "execution_count": 134,
     "metadata": {},
     "output_type": "execute_result"
    }
   ],
   "source": [
    "f = 'SubhaloPos'\n",
    "subs[f].ndim"
   ]
  },
  {
   "cell_type": "code",
   "execution_count": 136,
   "id": "44635fbe-7bf4-4371-9609-1a1a92e33b6f",
   "metadata": {},
   "outputs": [
    {
     "data": {
      "text/plain": [
       "(6047647,)"
      ]
     },
     "execution_count": 136,
     "metadata": {},
     "output_type": "execute_result"
    }
   ],
   "source": [
    "tmp = subs[f][df['SubhaloIndex_TNG-Dark'],0]\n",
    "tmp.shape"
   ]
  },
  {
   "cell_type": "code",
   "execution_count": null,
   "id": "622378f6-51f8-4073-915f-f2f79fd0565b",
   "metadata": {},
   "outputs": [],
   "source": []
  }
 ],
 "metadata": {
  "kernelspec": {
   "display_name": "Python 3 (ipykernel)",
   "language": "python",
   "name": "python3"
  },
  "language_info": {
   "codemirror_mode": {
    "name": "ipython",
    "version": 3
   },
   "file_extension": ".py",
   "mimetype": "text/x-python",
   "name": "python",
   "nbconvert_exporter": "python",
   "pygments_lexer": "ipython3",
   "version": "3.10.6"
  }
 },
 "nbformat": 4,
 "nbformat_minor": 5
}
